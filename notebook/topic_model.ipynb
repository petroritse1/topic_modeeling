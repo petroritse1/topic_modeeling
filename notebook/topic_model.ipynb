{
 "cells": [
  {
   "cell_type": "code",
   "execution_count": 1,
   "id": "85754bb8-5112-45de-89dc-041341036f04",
   "metadata": {},
   "outputs": [
    {
     "name": "stderr",
     "output_type": "stream",
     "text": [
      "[nltk_data] Downloading package punkt to\n",
      "[nltk_data]     C:\\Users\\!admin\\AppData\\Roaming\\nltk_data...\n",
      "[nltk_data]   Package punkt is already up-to-date!\n",
      "[nltk_data] Downloading package wordnet to\n",
      "[nltk_data]     C:\\Users\\!admin\\AppData\\Roaming\\nltk_data...\n",
      "[nltk_data]   Package wordnet is already up-to-date!\n",
      "[nltk_data] Downloading package stopwords to\n",
      "[nltk_data]     C:\\Users\\!admin\\AppData\\Roaming\\nltk_data...\n",
      "[nltk_data]   Package stopwords is already up-to-date!\n"
     ]
    }
   ],
   "source": [
    "import re\n",
    "import nltk\n",
    "import numpy as np\n",
    "import pandas as pd\n",
    "from collections import Counter\n",
    "import matplotlib.pyplot as plt \n",
    "nltk.download('punkt')\n",
    "from nltk.tokenize import word_tokenize, sent_tokenize\n",
    "nltk.download('wordnet')\n",
    "from nltk.stem import WordNetLemmatizer\n",
    "nltk.download('stopwords')\n",
    "from nltk.corpus import stopwords\n",
    "from sklearn.model_selection import train_test_split\n",
    "from sklearn.feature_extraction.text import TfidfVectorizer\n",
    "import seaborn as sns"
   ]
  },
  {
   "cell_type": "code",
   "execution_count": 2,
   "id": "4de4c910-d1f0-4b86-a500-16284cc586b0",
   "metadata": {},
   "outputs": [
    {
     "name": "stdout",
     "output_type": "stream",
     "text": [
      "The history saving thread hit an unexpected error (OperationalError('disk I/O error')).History will not be written to the database.\n"
     ]
    },
    {
     "data": {
      "text/html": [
       "<div>\n",
       "<style scoped>\n",
       "    .dataframe tbody tr th:only-of-type {\n",
       "        vertical-align: middle;\n",
       "    }\n",
       "\n",
       "    .dataframe tbody tr th {\n",
       "        vertical-align: top;\n",
       "    }\n",
       "\n",
       "    .dataframe thead th {\n",
       "        text-align: right;\n",
       "    }\n",
       "</style>\n",
       "<table border=\"1\" class=\"dataframe\">\n",
       "  <thead>\n",
       "    <tr style=\"text-align: right;\">\n",
       "      <th></th>\n",
       "      <th>Unnamed: 0</th>\n",
       "      <th>title</th>\n",
       "      <th>post</th>\n",
       "    </tr>\n",
       "  </thead>\n",
       "  <tbody>\n",
       "    <tr>\n",
       "      <th>0</th>\n",
       "      <td>0</td>\n",
       "      <td>any good military text-based rpg?</td>\n",
       "      <td>Hey guys\\n\\nI used to play a game from Storm8 ...</td>\n",
       "    </tr>\n",
       "    <tr>\n",
       "      <th>1</th>\n",
       "      <td>1</td>\n",
       "      <td>FC 6 Defeat Admiral Benitez BROKEN</td>\n",
       "      <td>In one try I fell trough a “floor” into broken...</td>\n",
       "    </tr>\n",
       "    <tr>\n",
       "      <th>2</th>\n",
       "      <td>2</td>\n",
       "      <td>Games with great sound design</td>\n",
       "      <td>We can all appreciate good sound, right? But w...</td>\n",
       "    </tr>\n",
       "    <tr>\n",
       "      <th>3</th>\n",
       "      <td>3</td>\n",
       "      <td>Remedy to open a new studio in Sweden</td>\n",
       "      <td>NaN</td>\n",
       "    </tr>\n",
       "    <tr>\n",
       "      <th>4</th>\n",
       "      <td>4</td>\n",
       "      <td>I need a game recommendation</td>\n",
       "      <td>Hi all,\\n\\nI'm 72, retired, and bored to tears...</td>\n",
       "    </tr>\n",
       "  </tbody>\n",
       "</table>\n",
       "</div>"
      ],
      "text/plain": [
       "   Unnamed: 0                                  title  \\\n",
       "0           0      any good military text-based rpg?   \n",
       "1           1     FC 6 Defeat Admiral Benitez BROKEN   \n",
       "2           2          Games with great sound design   \n",
       "3           3  Remedy to open a new studio in Sweden   \n",
       "4           4           I need a game recommendation   \n",
       "\n",
       "                                                post  \n",
       "0  Hey guys\\n\\nI used to play a game from Storm8 ...  \n",
       "1  In one try I fell trough a “floor” into broken...  \n",
       "2  We can all appreciate good sound, right? But w...  \n",
       "3                                                NaN  \n",
       "4  Hi all,\\n\\nI'm 72, retired, and bored to tears...  "
      ]
     },
     "execution_count": 2,
     "metadata": {},
     "output_type": "execute_result"
    }
   ],
   "source": [
    "data = (\"reddit.csv\")\n",
    "data.head()"
   ]
  },
  {
   "cell_type": "code",
   "execution_count": 3,
   "id": "c0556689-acd8-49f3-a7b8-5ee1b84a79b0",
   "metadata": {},
   "outputs": [
    {
     "name": "stdout",
     "output_type": "stream",
     "text": [
      "<class 'pandas.core.frame.DataFrame'>\n",
      "RangeIndex: 3631 entries, 0 to 3630\n",
      "Data columns (total 3 columns):\n",
      " #   Column      Non-Null Count  Dtype \n",
      "---  ------      --------------  ----- \n",
      " 0   Unnamed: 0  3631 non-null   int64 \n",
      " 1   title       3631 non-null   object\n",
      " 2   post        1713 non-null   object\n",
      "dtypes: int64(1), object(2)\n",
      "memory usage: 85.2+ KB\n"
     ]
    }
   ],
   "source": [
    "data.info()"
   ]
  },
  {
   "cell_type": "code",
   "execution_count": 4,
   "id": "45ec2ced-c64f-4c75-a5cb-a71d8825ad7e",
   "metadata": {},
   "outputs": [
    {
     "data": {
      "text/html": [
       "<div>\n",
       "<style scoped>\n",
       "    .dataframe tbody tr th:only-of-type {\n",
       "        vertical-align: middle;\n",
       "    }\n",
       "\n",
       "    .dataframe tbody tr th {\n",
       "        vertical-align: top;\n",
       "    }\n",
       "\n",
       "    .dataframe thead th {\n",
       "        text-align: right;\n",
       "    }\n",
       "</style>\n",
       "<table border=\"1\" class=\"dataframe\">\n",
       "  <thead>\n",
       "    <tr style=\"text-align: right;\">\n",
       "      <th></th>\n",
       "      <th>Unnamed: 0</th>\n",
       "    </tr>\n",
       "  </thead>\n",
       "  <tbody>\n",
       "    <tr>\n",
       "      <th>count</th>\n",
       "      <td>3631.000000</td>\n",
       "    </tr>\n",
       "    <tr>\n",
       "      <th>mean</th>\n",
       "      <td>456.322776</td>\n",
       "    </tr>\n",
       "    <tr>\n",
       "      <th>std</th>\n",
       "      <td>267.071134</td>\n",
       "    </tr>\n",
       "    <tr>\n",
       "      <th>min</th>\n",
       "      <td>0.000000</td>\n",
       "    </tr>\n",
       "    <tr>\n",
       "      <th>25%</th>\n",
       "      <td>226.500000</td>\n",
       "    </tr>\n",
       "    <tr>\n",
       "      <th>50%</th>\n",
       "      <td>453.000000</td>\n",
       "    </tr>\n",
       "    <tr>\n",
       "      <th>75%</th>\n",
       "      <td>680.000000</td>\n",
       "    </tr>\n",
       "    <tr>\n",
       "      <th>max</th>\n",
       "      <td>988.000000</td>\n",
       "    </tr>\n",
       "  </tbody>\n",
       "</table>\n",
       "</div>"
      ],
      "text/plain": [
       "        Unnamed: 0\n",
       "count  3631.000000\n",
       "mean    456.322776\n",
       "std     267.071134\n",
       "min       0.000000\n",
       "25%     226.500000\n",
       "50%     453.000000\n",
       "75%     680.000000\n",
       "max     988.000000"
      ]
     },
     "execution_count": 4,
     "metadata": {},
     "output_type": "execute_result"
    }
   ],
   "source": [
    "data.describe()"
   ]
  },
  {
   "cell_type": "code",
   "execution_count": 11,
   "id": "550b989e-9034-42e4-8c9d-10075846e3f4",
   "metadata": {},
   "outputs": [],
   "source": [
    "df = data.drop(data.columns[0],axis=1)"
   ]
  },
  {
   "cell_type": "code",
   "execution_count": 12,
   "id": "0229ec3f-f360-4bff-b1a6-1ff697aa3915",
   "metadata": {},
   "outputs": [
    {
     "data": {
      "text/html": [
       "<div>\n",
       "<style scoped>\n",
       "    .dataframe tbody tr th:only-of-type {\n",
       "        vertical-align: middle;\n",
       "    }\n",
       "\n",
       "    .dataframe tbody tr th {\n",
       "        vertical-align: top;\n",
       "    }\n",
       "\n",
       "    .dataframe thead th {\n",
       "        text-align: right;\n",
       "    }\n",
       "</style>\n",
       "<table border=\"1\" class=\"dataframe\">\n",
       "  <thead>\n",
       "    <tr style=\"text-align: right;\">\n",
       "      <th></th>\n",
       "      <th>title</th>\n",
       "      <th>post</th>\n",
       "    </tr>\n",
       "  </thead>\n",
       "  <tbody>\n",
       "    <tr>\n",
       "      <th>0</th>\n",
       "      <td>any good military text-based rpg?</td>\n",
       "      <td>Hey guys\\n\\nI used to play a game from Storm8 ...</td>\n",
       "    </tr>\n",
       "    <tr>\n",
       "      <th>1</th>\n",
       "      <td>FC 6 Defeat Admiral Benitez BROKEN</td>\n",
       "      <td>In one try I fell trough a “floor” into broken...</td>\n",
       "    </tr>\n",
       "    <tr>\n",
       "      <th>2</th>\n",
       "      <td>Games with great sound design</td>\n",
       "      <td>We can all appreciate good sound, right? But w...</td>\n",
       "    </tr>\n",
       "    <tr>\n",
       "      <th>3</th>\n",
       "      <td>Remedy to open a new studio in Sweden</td>\n",
       "      <td>NaN</td>\n",
       "    </tr>\n",
       "    <tr>\n",
       "      <th>4</th>\n",
       "      <td>I need a game recommendation</td>\n",
       "      <td>Hi all,\\n\\nI'm 72, retired, and bored to tears...</td>\n",
       "    </tr>\n",
       "  </tbody>\n",
       "</table>\n",
       "</div>"
      ],
      "text/plain": [
       "                                   title  \\\n",
       "0      any good military text-based rpg?   \n",
       "1     FC 6 Defeat Admiral Benitez BROKEN   \n",
       "2          Games with great sound design   \n",
       "3  Remedy to open a new studio in Sweden   \n",
       "4           I need a game recommendation   \n",
       "\n",
       "                                                post  \n",
       "0  Hey guys\\n\\nI used to play a game from Storm8 ...  \n",
       "1  In one try I fell trough a “floor” into broken...  \n",
       "2  We can all appreciate good sound, right? But w...  \n",
       "3                                                NaN  \n",
       "4  Hi all,\\n\\nI'm 72, retired, and bored to tears...  "
      ]
     },
     "execution_count": 12,
     "metadata": {},
     "output_type": "execute_result"
    }
   ],
   "source": [
    "#after doing some descriptive text analysis we want to generate topics based on the dataset title \n",
    "df.head()"
   ]
  },
  {
   "cell_type": "code",
   "execution_count": 20,
   "id": "cd0c05cd-b2c9-43d4-9186-0fb88199c810",
   "metadata": {},
   "outputs": [
    {
     "name": "stdout",
     "output_type": "stream",
     "text": [
      "mean of the text words -> 11.994491875516387\n"
     ]
    },
    {
     "data": {
      "text/html": [
       "<div>\n",
       "<style scoped>\n",
       "    .dataframe tbody tr th:only-of-type {\n",
       "        vertical-align: middle;\n",
       "    }\n",
       "\n",
       "    .dataframe tbody tr th {\n",
       "        vertical-align: top;\n",
       "    }\n",
       "\n",
       "    .dataframe thead th {\n",
       "        text-align: right;\n",
       "    }\n",
       "</style>\n",
       "<table border=\"1\" class=\"dataframe\">\n",
       "  <thead>\n",
       "    <tr style=\"text-align: right;\">\n",
       "      <th></th>\n",
       "      <th>title</th>\n",
       "      <th>post</th>\n",
       "      <th>length</th>\n",
       "      <th>title_length</th>\n",
       "    </tr>\n",
       "  </thead>\n",
       "  <tbody>\n",
       "    <tr>\n",
       "      <th>0</th>\n",
       "      <td>any good military text-based rpg?</td>\n",
       "      <td>Hey guys\\n\\nI used to play a game from Storm8 ...</td>\n",
       "      <td>5</td>\n",
       "      <td>5</td>\n",
       "    </tr>\n",
       "    <tr>\n",
       "      <th>1</th>\n",
       "      <td>FC 6 Defeat Admiral Benitez BROKEN</td>\n",
       "      <td>In one try I fell trough a “floor” into broken...</td>\n",
       "      <td>6</td>\n",
       "      <td>6</td>\n",
       "    </tr>\n",
       "    <tr>\n",
       "      <th>2</th>\n",
       "      <td>Games with great sound design</td>\n",
       "      <td>We can all appreciate good sound, right? But w...</td>\n",
       "      <td>5</td>\n",
       "      <td>5</td>\n",
       "    </tr>\n",
       "    <tr>\n",
       "      <th>3</th>\n",
       "      <td>Remedy to open a new studio in Sweden</td>\n",
       "      <td>NaN</td>\n",
       "      <td>8</td>\n",
       "      <td>8</td>\n",
       "    </tr>\n",
       "    <tr>\n",
       "      <th>4</th>\n",
       "      <td>I need a game recommendation</td>\n",
       "      <td>Hi all,\\n\\nI'm 72, retired, and bored to tears...</td>\n",
       "      <td>5</td>\n",
       "      <td>5</td>\n",
       "    </tr>\n",
       "  </tbody>\n",
       "</table>\n",
       "</div>"
      ],
      "text/plain": [
       "                                   title  \\\n",
       "0      any good military text-based rpg?   \n",
       "1     FC 6 Defeat Admiral Benitez BROKEN   \n",
       "2          Games with great sound design   \n",
       "3  Remedy to open a new studio in Sweden   \n",
       "4           I need a game recommendation   \n",
       "\n",
       "                                                post  length  title_length  \n",
       "0  Hey guys\\n\\nI used to play a game from Storm8 ...       5             5  \n",
       "1  In one try I fell trough a “floor” into broken...       6             6  \n",
       "2  We can all appreciate good sound, right? But w...       5             5  \n",
       "3                                                NaN       8             8  \n",
       "4  Hi all,\\n\\nI'm 72, retired, and bored to tears...       5             5  "
      ]
     },
     "execution_count": 20,
     "metadata": {},
     "output_type": "execute_result"
    }
   ],
   "source": [
    " #getting the length of each text in the\n",
    "df['title_length'] = df['title'].apply(lambda x:len(x.split()))\n",
    "\n",
    "average_words = df['title_length'].mean()\n",
    "\n",
    "print(f'mean of the text words -> {average_words}')\n",
    "df.head()\n",
    " "
   ]
  },
  {
   "cell_type": "code",
   "execution_count": 102,
   "id": "d08da738-cade-40d3-9790-aaec312893b1",
   "metadata": {},
   "outputs": [
    {
     "data": {
      "text/plain": [
       "Text(0, 0.5, 'Count')"
      ]
     },
     "execution_count": 102,
     "metadata": {},
     "output_type": "execute_result"
    },
    {
     "data": {
      "image/png": "[encoded data removed]",
      "text/plain": [
       "<Figure size 640x480 with 1 Axes>"
      ]
     },
     "metadata": {},
     "output_type": "display_data"
    }
   ],
   "source": [
    "# Plot 1: Distribution of title lengths\n",
    "plt.subplot(1, 1, 1)\n",
    "sns.histplot(data=df['title_length'], bins=20)\n",
    "plt.title('Distribution of Title Lengths')\n",
    "plt.xlabel('Number of Words')\n",
    "plt.ylabel('Count')"
   ]
  },
  {
   "cell_type": "code",
   "execution_count": 137,
   "id": "056618ff-434b-466a-8f89-e03eaf748d35",
   "metadata": {},
   "outputs": [
    {
     "data": {
      "text/html": [
       "<div>\n",
       "<style scoped>\n",
       "    .dataframe tbody tr th:only-of-type {\n",
       "        vertical-align: middle;\n",
       "    }\n",
       "\n",
       "    .dataframe tbody tr th {\n",
       "        vertical-align: top;\n",
       "    }\n",
       "\n",
       "    .dataframe thead th {\n",
       "        text-align: right;\n",
       "    }\n",
       "</style>\n",
       "<table border=\"1\" class=\"dataframe\">\n",
       "  <thead>\n",
       "    <tr style=\"text-align: right;\">\n",
       "      <th></th>\n",
       "      <th>title</th>\n",
       "      <th>post</th>\n",
       "      <th>length</th>\n",
       "      <th>title_length</th>\n",
       "      <th>tokenized_words</th>\n",
       "      <th>topic_results</th>\n",
       "      <th>keywords</th>\n",
       "    </tr>\n",
       "  </thead>\n",
       "  <tbody>\n",
       "    <tr>\n",
       "      <th>0</th>\n",
       "      <td>any good military text-based rpg?</td>\n",
       "      <td>Hey guys\\n\\nI used to play a game from Storm8 ...</td>\n",
       "      <td>5</td>\n",
       "      <td>5</td>\n",
       "      <td>good  military  rpg</td>\n",
       "      <td>3</td>\n",
       "      <td>[best, player, team, season, nba]</td>\n",
       "    </tr>\n",
       "    <tr>\n",
       "      <th>1</th>\n",
       "      <td>FC 6 Defeat Admiral Benitez BROKEN</td>\n",
       "      <td>In one try I fell trough a “floor” into broken...</td>\n",
       "      <td>6</td>\n",
       "      <td>6</td>\n",
       "      <td>fc  6  defeat  admiral  benitez  broken</td>\n",
       "      <td>6</td>\n",
       "      <td>[best, player, team, season, nba]</td>\n",
       "    </tr>\n",
       "    <tr>\n",
       "      <th>2</th>\n",
       "      <td>Games with great sound design</td>\n",
       "      <td>We can all appreciate good sound, right? But w...</td>\n",
       "      <td>5</td>\n",
       "      <td>5</td>\n",
       "      <td>games  great  sound  design</td>\n",
       "      <td>2</td>\n",
       "      <td>[best, player, team, season, nba]</td>\n",
       "    </tr>\n",
       "    <tr>\n",
       "      <th>3</th>\n",
       "      <td>Remedy to open a new studio in Sweden</td>\n",
       "      <td>NaN</td>\n",
       "      <td>8</td>\n",
       "      <td>8</td>\n",
       "      <td>remedy  open  new  studio  sweden</td>\n",
       "      <td>5</td>\n",
       "      <td>[games, switch, launch, game, trailer]</td>\n",
       "    </tr>\n",
       "    <tr>\n",
       "      <th>4</th>\n",
       "      <td>I need a game recommendation</td>\n",
       "      <td>Hi all,\\n\\nI'm 72, retired, and bored to tears...</td>\n",
       "      <td>5</td>\n",
       "      <td>5</td>\n",
       "      <td>need  game  recommendation</td>\n",
       "      <td>4</td>\n",
       "      <td>[best, player, team, season, nba]</td>\n",
       "    </tr>\n",
       "  </tbody>\n",
       "</table>\n",
       "</div>"
      ],
      "text/plain": [
       "                                   title  \\\n",
       "0      any good military text-based rpg?   \n",
       "1     FC 6 Defeat Admiral Benitez BROKEN   \n",
       "2          Games with great sound design   \n",
       "3  Remedy to open a new studio in Sweden   \n",
       "4           I need a game recommendation   \n",
       "\n",
       "                                                post  length  title_length  \\\n",
       "0  Hey guys\\n\\nI used to play a game from Storm8 ...       5             5   \n",
       "1  In one try I fell trough a “floor” into broken...       6             6   \n",
       "2  We can all appreciate good sound, right? But w...       5             5   \n",
       "3                                                NaN       8             8   \n",
       "4  Hi all,\\n\\nI'm 72, retired, and bored to tears...       5             5   \n",
       "\n",
       "                           tokenized_words  topic_results  \\\n",
       "0                      good  military  rpg              3   \n",
       "1  fc  6  defeat  admiral  benitez  broken              6   \n",
       "2              games  great  sound  design              2   \n",
       "3        remedy  open  new  studio  sweden              5   \n",
       "4               need  game  recommendation              4   \n",
       "\n",
       "                                 keywords  \n",
       "0       [best, player, team, season, nba]  \n",
       "1       [best, player, team, season, nba]  \n",
       "2       [best, player, team, season, nba]  \n",
       "3  [games, switch, launch, game, trailer]  \n",
       "4       [best, player, team, season, nba]  "
      ]
     },
     "execution_count": 137,
     "metadata": {},
     "output_type": "execute_result"
    }
   ],
   "source": [
    "#preforming the necessary preporcessing steps\n",
    "def tokenize_words(text):\n",
    "    if isinstance(text, str):\n",
    "        # Convert to lowercase\n",
    "        text = text.lower()\n",
    "        # Tokenize\n",
    "        tokens = word_tokenize(text)\n",
    "        stop_words = set(stopwords.words('english'))\n",
    "        filtered_words = [word for word in tokens if word.isalpha() | word.isnumeric()  and word not in stop_words]\n",
    "        return \"  \".join(filtered_words)\n",
    "    return []\n",
    "\n",
    "\n",
    "df['tokenized_words'] = df['title'].apply(tokenize_words)\n",
    "df.head()"
   ]
  },
  {
   "cell_type": "code",
   "execution_count": 138,
   "id": "202da3c3-6efd-47fe-afa2-ecd081bcde2c",
   "metadata": {},
   "outputs": [
    {
     "data": {
      "text/plain": [
       "Text(0.5, 0, 'Frequency')"
      ]
     },
     "execution_count": 138,
     "metadata": {},
     "output_type": "execute_result"
    },
    {
     "data": {
      "image/png": "[encoded data removed]",
      "text/plain": [
       "<Figure size 640x480 with 1 Axes>"
      ]
     },
     "metadata": {},
     "output_type": "display_data"
    }
   ],
   "source": [
    "# Plot 3: Top 20 most common words\n",
    "word_freq = Counter(\" \".join(df['tokenized_words'].dropna()).split())\n",
    "words, counts = zip(*word_freq.most_common(20))\n",
    "plt.subplot(1, 1, 1)\n",
    "sns.barplot(x=list(counts), y=list(words))\n",
    "plt.title('Top 20 Most Common Words')\n",
    "plt.xlabel('Frequency')"
   ]
  },
  {
   "cell_type": "code",
   "execution_count": 140,
   "id": "38071768-8ce9-4a4f-a632-f8088b9f59af",
   "metadata": {},
   "outputs": [
    {
     "data": {
      "image/png": "[encoded data removed]",
      "text/plain": [
       "<Figure size 640x480 with 1 Axes>"
      ]
     },
     "metadata": {},
     "output_type": "display_data"
    }
   ],
   "source": [
    "# Plot 4: Title length over time\n",
    "plt.subplot(1, 1, 1)\n",
    "plt.plot(df.index[:100], df['title_length'][:100], '-o', alpha=0.5)\n",
    "plt.title('Title Length Over Time (First 100 Posts)')\n",
    "plt.xlabel('Post Index')\n",
    "plt.ylabel('Title Length')\n",
    "\n",
    "plt.tight_layout()\n",
    "plt.show()"
   ]
  },
  {
   "cell_type": "code",
   "execution_count": 141,
   "id": "2a646382-496c-4c79-8d5c-bc3347d79958",
   "metadata": {},
   "outputs": [],
   "source": [
    "#import and initailize the sklearn countvectorizer\n",
    "from sklearn.feature_extraction.text import CountVectorizer"
   ]
  },
  {
   "cell_type": "code",
   "execution_count": 142,
   "id": "a0e51c78-2dc7-4c8a-989c-d7c90d4013f4",
   "metadata": {},
   "outputs": [],
   "source": [
    "#convert the words to vectors \n",
    "cv = CountVectorizer(min_df=2,max_df=0.9)\n",
    "dtm = cv.fit_transform(df['tokenized_words'])"
   ]
  },
  {
   "cell_type": "code",
   "execution_count": 143,
   "id": "66d939cf-a3fe-47e3-8f2b-c3da5671678b",
   "metadata": {},
   "outputs": [
    {
     "data": {
      "text/plain": [
       "array(['zero', 'zion', 'zombie', 'zone', 'zubac'], dtype=object)"
      ]
     },
     "execution_count": 143,
     "metadata": {},
     "output_type": "execute_result"
    }
   ],
   "source": [
    "cv.get_feature_names_out()[-5:]"
   ]
  },
  {
   "cell_type": "code",
   "execution_count": 144,
   "id": "da6ed5f8-f86e-4e2d-b956-d7aabf699967",
   "metadata": {},
   "outputs": [],
   "source": [
    "#using the latent dirichlet allocation to predict the topics\n",
    "from sklearn.decomposition  import LatentDirichletAllocation\n",
    "\n",
    "lda = LatentDirichletAllocation(n_components=7,random_state=42)\n",
    "\n"
   ]
  },
  {
   "cell_type": "code",
   "execution_count": 145,
   "id": "fce6acb7-c210-41ac-8b55-0b9c6c8d1e36",
   "metadata": {},
   "outputs": [],
   "source": [
    "#splitting the dataset for testing and traingin\n",
    " \n",
    "# y =  dtm\n",
    "# from sklearn.model_selection import train_test_split\n",
    "\n",
    "# X_train, X_test, y_train, y_test = train_test_split(X, y, test_size=0.3, random_state=42)\n",
    "\n"
   ]
  },
  {
   "cell_type": "code",
   "execution_count": 146,
   "id": "5f6751d3-8f3c-4e3d-bce7-d1ffc36baf0a",
   "metadata": {},
   "outputs": [
    {
     "data": {
      "text/html": [
       "<style>#sk-container-id-3 {color: black;background-color: white;}#sk-container-id-3 pre{padding: 0;}#sk-container-id-3 div.sk-toggleable {background-color: white;}#sk-container-id-3 label.sk-toggleable__label {cursor: pointer;display: block;width: 100%;margin-bottom: 0;padding: 0.3em;box-sizing: border-box;text-align: center;}#sk-container-id-3 label.sk-toggleable__label-arrow:before {content: \"▸\";float: left;margin-right: 0.25em;color: #696969;}#sk-container-id-3 label.sk-toggleable__label-arrow:hover:before {color: black;}#sk-container-id-3 div.sk-estimator:hover label.sk-toggleable__label-arrow:before {color: black;}#sk-container-id-3 div.sk-toggleable__content {max-height: 0;max-width: 0;overflow: hidden;text-align: left;background-color: #f0f8ff;}#sk-container-id-3 div.sk-toggleable__content pre {margin: 0.2em;color: black;border-radius: 0.25em;background-color: #f0f8ff;}#sk-container-id-3 input.sk-toggleable__control:checked~div.sk-toggleable__content {max-height: 200px;max-width: 100%;overflow: auto;}#sk-container-id-3 input.sk-toggleable__control:checked~label.sk-toggleable__label-arrow:before {content: \"▾\";}#sk-container-id-3 div.sk-estimator input.sk-toggleable__control:checked~label.sk-toggleable__label {background-color: #d4ebff;}#sk-container-id-3 div.sk-label input.sk-toggleable__control:checked~label.sk-toggleable__label {background-color: #d4ebff;}#sk-container-id-3 input.sk-hidden--visually {border: 0;clip: rect(1px 1px 1px 1px);clip: rect(1px, 1px, 1px, 1px);height: 1px;margin: -1px;overflow: hidden;padding: 0;position: absolute;width: 1px;}#sk-container-id-3 div.sk-estimator {font-family: monospace;background-color: #f0f8ff;border: 1px dotted black;border-radius: 0.25em;box-sizing: border-box;margin-bottom: 0.5em;}#sk-container-id-3 div.sk-estimator:hover {background-color: #d4ebff;}#sk-container-id-3 div.sk-parallel-item::after {content: \"\";width: 100%;border-bottom: 1px solid gray;flex-grow: 1;}#sk-container-id-3 div.sk-label:hover label.sk-toggleable__label {background-color: #d4ebff;}#sk-container-id-3 div.sk-serial::before {content: \"\";position: absolute;border-left: 1px solid gray;box-sizing: border-box;top: 0;bottom: 0;left: 50%;z-index: 0;}#sk-container-id-3 div.sk-serial {display: flex;flex-direction: column;align-items: center;background-color: white;padding-right: 0.2em;padding-left: 0.2em;position: relative;}#sk-container-id-3 div.sk-item {position: relative;z-index: 1;}#sk-container-id-3 div.sk-parallel {display: flex;align-items: stretch;justify-content: center;background-color: white;position: relative;}#sk-container-id-3 div.sk-item::before, #sk-container-id-3 div.sk-parallel-item::before {content: \"\";position: absolute;border-left: 1px solid gray;box-sizing: border-box;top: 0;bottom: 0;left: 50%;z-index: -1;}#sk-container-id-3 div.sk-parallel-item {display: flex;flex-direction: column;z-index: 1;position: relative;background-color: white;}#sk-container-id-3 div.sk-parallel-item:first-child::after {align-self: flex-end;width: 50%;}#sk-container-id-3 div.sk-parallel-item:last-child::after {align-self: flex-start;width: 50%;}#sk-container-id-3 div.sk-parallel-item:only-child::after {width: 0;}#sk-container-id-3 div.sk-dashed-wrapped {border: 1px dashed gray;margin: 0 0.4em 0.5em 0.4em;box-sizing: border-box;padding-bottom: 0.4em;background-color: white;}#sk-container-id-3 div.sk-label label {font-family: monospace;font-weight: bold;display: inline-block;line-height: 1.2em;}#sk-container-id-3 div.sk-label-container {text-align: center;}#sk-container-id-3 div.sk-container {/* jupyter's `normalize.less` sets `[hidden] { display: none; }` but bootstrap.min.css set `[hidden] { display: none !important; }` so we also need the `!important` here to be able to override the default hidden behavior on the sphinx rendered scikit-learn.org. See: https://github.com/scikit-learn/scikit-learn/issues/21755 */display: inline-block !important;position: relative;}#sk-container-id-3 div.sk-text-repr-fallback {display: none;}</style><div id=\"sk-container-id-3\" class=\"sk-top-container\"><div class=\"sk-text-repr-fallback\"><pre>LatentDirichletAllocation(n_components=7, random_state=42)</pre><b>In a Jupyter environment, please rerun this cell to show the HTML representation or trust the notebook. <br />On GitHub, the HTML representation is unable to render, please try loading this page with nbviewer.org.</b></div><div class=\"sk-container\" hidden><div class=\"sk-item\"><div class=\"sk-estimator sk-toggleable\"><input class=\"sk-toggleable__control sk-hidden--visually\" id=\"sk-estimator-id-3\" type=\"checkbox\" checked><label for=\"sk-estimator-id-3\" class=\"sk-toggleable__label sk-toggleable__label-arrow\">LatentDirichletAllocation</label><div class=\"sk-toggleable__content\"><pre>LatentDirichletAllocation(n_components=7, random_state=42)</pre></div></div></div></div></div>"
      ],
      "text/plain": [
       "LatentDirichletAllocation(n_components=7, random_state=42)"
      ]
     },
     "execution_count": 146,
     "metadata": {},
     "output_type": "execute_result"
    }
   ],
   "source": [
    "lda.fit(dtm)"
   ]
  },
  {
   "cell_type": "code",
   "execution_count": 147,
   "id": "63f2cb43-1fb1-43dc-ac5e-099d85218324",
   "metadata": {},
   "outputs": [
    {
     "name": "stderr",
     "output_type": "stream",
     "text": [
      "C:\\Users\\!admin\\AppData\\Local\\Programs\\Python\\Python310\\lib\\site-packages\\sklearn\\utils\\deprecation.py:87: FutureWarning: Function get_feature_names is deprecated; get_feature_names is deprecated in 1.0 and will be removed in 1.2. Please use get_feature_names_out instead.\n",
      "  warnings.warn(msg, category=FutureWarning)\n"
     ]
    }
   ],
   "source": [
    "freq_key = []\n",
    "for idx in df['topic_results']:\n",
    "     topic = lda.components_[idx]\n",
    "    #prediction of the topic words\n",
    "     # print(f'THE TOP 5 WORDS FOR TOPIC #{idx}')\n",
    "     # print([cv.get_feature_names()[i] for i in topic.argsort()[-5:]])\n",
    "     freq_key.append([cv.get_feature_names()[i] for i in topic.argsort()[-5:]])\n",
    "\n",
    "     "
   ]
  },
  {
   "cell_type": "code",
   "execution_count": 148,
   "id": "6bbbfbd7-170c-4656-b0e6-05c084c65fb9",
   "metadata": {},
   "outputs": [],
   "source": [
    "topic_result = lda.transform(dtm)"
   ]
  },
  {
   "cell_type": "code",
   "execution_count": 149,
   "id": "5d44f877-dd75-44fc-a1b0-7f40ff93769a",
   "metadata": {},
   "outputs": [],
   "source": [
    "df['topic_results'] = topic_result.argmax(axis=1)"
   ]
  },
  {
   "cell_type": "code",
   "execution_count": 150,
   "id": "6e1d8e7b-7c15-49b2-9235-1be5ed27b690",
   "metadata": {},
   "outputs": [
    {
     "name": "stdout",
     "output_type": "stream",
     "text": [
      "[['know', 'best', 'games', 'nba', 'game'], ['overwatch', 'players', 'ball', 'play', 'highlight'], ['playing', 'like', 'team', 'overwatch', 'basketball'], ['better', 'switch', 'highlight', 'launch', 'trailer'], ['nba', 'back', 'lebron', 'world', 'team']]\n"
     ]
    }
   ],
   "source": [
    "print(freq_key[:5])"
   ]
  },
  {
   "cell_type": "code",
   "execution_count": 151,
   "id": "b244a99c-39e9-4523-8025-236756f9beca",
   "metadata": {},
   "outputs": [],
   "source": [
    "df['keywords'] = freq_key"
   ]
  },
  {
   "cell_type": "code",
   "execution_count": 152,
   "id": "cdc1e9fd-b268-4d2f-9bd8-c0931e49d9e5",
   "metadata": {},
   "outputs": [
    {
     "name": "stdout",
     "output_type": "stream",
     "text": [
      "0    5\n",
      "1    4\n",
      "2    2\n",
      "3    0\n",
      "4    1\n",
      "Name: topic_results, dtype: int64\n"
     ]
    }
   ],
   "source": [
    "print(df['topic_results'].head())"
   ]
  },
  {
   "cell_type": "code",
   "execution_count": 153,
   "id": "22133356-5621-48ea-bad9-a5373d455a75",
   "metadata": {},
   "outputs": [
    {
     "data": {
      "text/html": [
       "<div>\n",
       "<style scoped>\n",
       "    .dataframe tbody tr th:only-of-type {\n",
       "        vertical-align: middle;\n",
       "    }\n",
       "\n",
       "    .dataframe tbody tr th {\n",
       "        vertical-align: top;\n",
       "    }\n",
       "\n",
       "    .dataframe thead th {\n",
       "        text-align: right;\n",
       "    }\n",
       "</style>\n",
       "<table border=\"1\" class=\"dataframe\">\n",
       "  <thead>\n",
       "    <tr style=\"text-align: right;\">\n",
       "      <th></th>\n",
       "      <th>title</th>\n",
       "      <th>post</th>\n",
       "      <th>length</th>\n",
       "      <th>title_length</th>\n",
       "      <th>tokenized_words</th>\n",
       "      <th>topic_results</th>\n",
       "      <th>keywords</th>\n",
       "    </tr>\n",
       "  </thead>\n",
       "  <tbody>\n",
       "    <tr>\n",
       "      <th>0</th>\n",
       "      <td>any good military text-based rpg?</td>\n",
       "      <td>Hey guys\\n\\nI used to play a game from Storm8 ...</td>\n",
       "      <td>5</td>\n",
       "      <td>5</td>\n",
       "      <td>good  military  rpg</td>\n",
       "      <td>5</td>\n",
       "      <td>[know, best, games, nba, game]</td>\n",
       "    </tr>\n",
       "    <tr>\n",
       "      <th>1</th>\n",
       "      <td>FC 6 Defeat Admiral Benitez BROKEN</td>\n",
       "      <td>In one try I fell trough a “floor” into broken...</td>\n",
       "      <td>6</td>\n",
       "      <td>6</td>\n",
       "      <td>fc  6  defeat  admiral  benitez  broken</td>\n",
       "      <td>4</td>\n",
       "      <td>[overwatch, players, ball, play, highlight]</td>\n",
       "    </tr>\n",
       "    <tr>\n",
       "      <th>2</th>\n",
       "      <td>Games with great sound design</td>\n",
       "      <td>We can all appreciate good sound, right? But w...</td>\n",
       "      <td>5</td>\n",
       "      <td>5</td>\n",
       "      <td>games  great  sound  design</td>\n",
       "      <td>2</td>\n",
       "      <td>[playing, like, team, overwatch, basketball]</td>\n",
       "    </tr>\n",
       "    <tr>\n",
       "      <th>3</th>\n",
       "      <td>Remedy to open a new studio in Sweden</td>\n",
       "      <td>NaN</td>\n",
       "      <td>8</td>\n",
       "      <td>8</td>\n",
       "      <td>remedy  open  new  studio  sweden</td>\n",
       "      <td>0</td>\n",
       "      <td>[better, switch, highlight, launch, trailer]</td>\n",
       "    </tr>\n",
       "    <tr>\n",
       "      <th>4</th>\n",
       "      <td>I need a game recommendation</td>\n",
       "      <td>Hi all,\\n\\nI'm 72, retired, and bored to tears...</td>\n",
       "      <td>5</td>\n",
       "      <td>5</td>\n",
       "      <td>need  game  recommendation</td>\n",
       "      <td>1</td>\n",
       "      <td>[nba, back, lebron, world, team]</td>\n",
       "    </tr>\n",
       "    <tr>\n",
       "      <th>5</th>\n",
       "      <td>Why did Valve made that terrible card game?</td>\n",
       "      <td>I like Valve since they usually do a good job ...</td>\n",
       "      <td>8</td>\n",
       "      <td>8</td>\n",
       "      <td>valve  made  terrible  card  game</td>\n",
       "      <td>1</td>\n",
       "      <td>[full, got, vs, highlight, game]</td>\n",
       "    </tr>\n",
       "    <tr>\n",
       "      <th>6</th>\n",
       "      <td>Battlefield 2042 is removing a \"little green m...</td>\n",
       "      <td>NaN</td>\n",
       "      <td>13</td>\n",
       "      <td>13</td>\n",
       "      <td>battlefield  2042  removing  little  green  me...</td>\n",
       "      <td>6</td>\n",
       "      <td>[playing, like, team, overwatch, basketball]</td>\n",
       "    </tr>\n",
       "    <tr>\n",
       "      <th>7</th>\n",
       "      <td>\"I Quit The Game Immediately\": Trans Players R...</td>\n",
       "      <td>NaN</td>\n",
       "      <td>13</td>\n",
       "      <td>13</td>\n",
       "      <td>quit  game  immediately  trans  players  respo...</td>\n",
       "      <td>3</td>\n",
       "      <td>[playing, like, team, overwatch, basketball]</td>\n",
       "    </tr>\n",
       "    <tr>\n",
       "      <th>8</th>\n",
       "      <td>Starbreeze net sales up to almost $4m</td>\n",
       "      <td>NaN</td>\n",
       "      <td>7</td>\n",
       "      <td>7</td>\n",
       "      <td>starbreeze  net  sales  almost</td>\n",
       "      <td>2</td>\n",
       "      <td>[nba, back, lebron, world, team]</td>\n",
       "    </tr>\n",
       "    <tr>\n",
       "      <th>9</th>\n",
       "      <td>Dragon Ball FighterZ surpasses 8 million units...</td>\n",
       "      <td>NaN</td>\n",
       "      <td>17</td>\n",
       "      <td>17</td>\n",
       "      <td>dragon  ball  fighterz  surpasses  8  million ...</td>\n",
       "      <td>6</td>\n",
       "      <td>[full, got, vs, highlight, game]</td>\n",
       "    </tr>\n",
       "  </tbody>\n",
       "</table>\n",
       "</div>"
      ],
      "text/plain": [
       "                                               title  \\\n",
       "0                  any good military text-based rpg?   \n",
       "1                 FC 6 Defeat Admiral Benitez BROKEN   \n",
       "2                      Games with great sound design   \n",
       "3              Remedy to open a new studio in Sweden   \n",
       "4                       I need a game recommendation   \n",
       "5        Why did Valve made that terrible card game?   \n",
       "6  Battlefield 2042 is removing a \"little green m...   \n",
       "7  \"I Quit The Game Immediately\": Trans Players R...   \n",
       "8              Starbreeze net sales up to almost $4m   \n",
       "9  Dragon Ball FighterZ surpasses 8 million units...   \n",
       "\n",
       "                                                post  length  title_length  \\\n",
       "0  Hey guys\\n\\nI used to play a game from Storm8 ...       5             5   \n",
       "1  In one try I fell trough a “floor” into broken...       6             6   \n",
       "2  We can all appreciate good sound, right? But w...       5             5   \n",
       "3                                                NaN       8             8   \n",
       "4  Hi all,\\n\\nI'm 72, retired, and bored to tears...       5             5   \n",
       "5  I like Valve since they usually do a good job ...       8             8   \n",
       "6                                                NaN      13            13   \n",
       "7                                                NaN      13            13   \n",
       "8                                                NaN       7             7   \n",
       "9                                                NaN      17            17   \n",
       "\n",
       "                                     tokenized_words  topic_results  \\\n",
       "0                                good  military  rpg              5   \n",
       "1            fc  6  defeat  admiral  benitez  broken              4   \n",
       "2                        games  great  sound  design              2   \n",
       "3                  remedy  open  new  studio  sweden              0   \n",
       "4                         need  game  recommendation              1   \n",
       "5                  valve  made  terrible  card  game              1   \n",
       "6  battlefield  2042  removing  little  green  me...              6   \n",
       "7  quit  game  immediately  trans  players  respo...              3   \n",
       "8                     starbreeze  net  sales  almost              2   \n",
       "9  dragon  ball  fighterz  surpasses  8  million ...              6   \n",
       "\n",
       "                                       keywords  \n",
       "0                [know, best, games, nba, game]  \n",
       "1   [overwatch, players, ball, play, highlight]  \n",
       "2  [playing, like, team, overwatch, basketball]  \n",
       "3  [better, switch, highlight, launch, trailer]  \n",
       "4              [nba, back, lebron, world, team]  \n",
       "5              [full, got, vs, highlight, game]  \n",
       "6  [playing, like, team, overwatch, basketball]  \n",
       "7  [playing, like, team, overwatch, basketball]  \n",
       "8              [nba, back, lebron, world, team]  \n",
       "9              [full, got, vs, highlight, game]  "
      ]
     },
     "execution_count": 153,
     "metadata": {},
     "output_type": "execute_result"
    }
   ],
   "source": [
    "df.head(10)"
   ]
  },
  {
   "cell_type": "code",
   "execution_count": null,
   "id": "474e177c-2e14-46a2-8d96-557407892cbe",
   "metadata": {},
   "outputs": [],
   "source": []
  }
 ],
 "metadata": {
  "kernelspec": {
   "display_name": "Python 3 (ipykernel)",
   "language": "python",
   "name": "python3"
  },
  "language_info": {
   "codemirror_mode": {
    "name": "ipython",
    "version": 3
   },
   "file_extension": ".py",
   "mimetype": "text/x-python",
   "name": "python",
   "nbconvert_exporter": "python",
   "pygments_lexer": "ipython3",
   "version": "3.10.0"
  }
 },
 "nbformat": 4,
 "nbformat_minor": 5
}
